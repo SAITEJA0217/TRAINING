{
 "cells": [
  {
   "cell_type": "code",
   "execution_count": 2,
   "id": "b878d8ba-6eed-4561-b42c-ecffa3dec89e",
   "metadata": {},
   "outputs": [
    {
     "data": {
      "text/plain": [
       "67"
      ]
     },
     "execution_count": 2,
     "metadata": {},
     "output_type": "execute_result"
    }
   ],
   "source": [
    "a=67\n",
    "a"
   ]
  },
  {
   "cell_type": "code",
   "execution_count": 4,
   "id": "136a164e-4f7d-4eea-adfb-a4bd4f669e3e",
   "metadata": {},
   "outputs": [
    {
     "data": {
      "text/plain": [
       "int"
      ]
     },
     "execution_count": 4,
     "metadata": {},
     "output_type": "execute_result"
    }
   ],
   "source": [
    "type(a)"
   ]
  },
  {
   "cell_type": "code",
   "execution_count": 6,
   "id": "aae6cc75-b01f-40e7-ba3c-c6d489e3e9bf",
   "metadata": {},
   "outputs": [
    {
     "data": {
      "text/plain": [
       "32.89"
      ]
     },
     "execution_count": 6,
     "metadata": {},
     "output_type": "execute_result"
    }
   ],
   "source": [
    "b=32.89\n",
    "b"
   ]
  },
  {
   "cell_type": "code",
   "execution_count": 8,
   "id": "8bc6d705-7eb2-4e37-9f21-72e5b0af65e7",
   "metadata": {},
   "outputs": [
    {
     "data": {
      "text/plain": [
       "float"
      ]
     },
     "execution_count": 8,
     "metadata": {},
     "output_type": "execute_result"
    }
   ],
   "source": [
    "type(b)"
   ]
  },
  {
   "cell_type": "code",
   "execution_count": 28,
   "id": "8fd1d406-0b5c-4bb3-b9cc-b1ec02d75c95",
   "metadata": {},
   "outputs": [
    {
     "data": {
      "text/plain": [
       "'SAITEJA '"
      ]
     },
     "execution_count": 28,
     "metadata": {},
     "output_type": "execute_result"
    }
   ],
   "source": [
    "c=\"SAITEJA \"\n",
    "c"
   ]
  },
  {
   "cell_type": "code",
   "execution_count": 14,
   "id": "6c3ef444-53dc-47f3-9617-40d3fee40ccc",
   "metadata": {},
   "outputs": [
    {
     "data": {
      "text/plain": [
       "str"
      ]
     },
     "execution_count": 14,
     "metadata": {},
     "output_type": "execute_result"
    }
   ],
   "source": [
    "type(c)"
   ]
  },
  {
   "cell_type": "code",
   "execution_count": 18,
   "id": "cb280e73-cdf0-495b-8064-feee8dae5f93",
   "metadata": {},
   "outputs": [
    {
     "data": {
      "text/plain": [
       "True"
      ]
     },
     "execution_count": 18,
     "metadata": {},
     "output_type": "execute_result"
    }
   ],
   "source": [
    "d=True\n",
    "d"
   ]
  },
  {
   "cell_type": "code",
   "execution_count": 20,
   "id": "0c3d1539-85cf-41b9-bbca-932a83670294",
   "metadata": {},
   "outputs": [
    {
     "data": {
      "text/plain": [
       "bool"
      ]
     },
     "execution_count": 20,
     "metadata": {},
     "output_type": "execute_result"
    }
   ],
   "source": [
    "type(d)"
   ]
  },
  {
   "cell_type": "code",
   "execution_count": 24,
   "id": "6337836a-5575-46f9-810f-a05be09cdc08",
   "metadata": {},
   "outputs": [
    {
     "data": {
      "text/plain": [
       "'REDDY'"
      ]
     },
     "execution_count": 24,
     "metadata": {},
     "output_type": "execute_result"
    }
   ],
   "source": [
    "e=\"REDDY\"\n",
    "e"
   ]
  },
  {
   "cell_type": "code",
   "execution_count": 6,
   "id": "adcbc3dc-c6fa-43fa-b230-54464ff25b1a",
   "metadata": {},
   "outputs": [
    {
     "data": {
      "text/plain": [
       "52"
      ]
     },
     "execution_count": 6,
     "metadata": {},
     "output_type": "execute_result"
    }
   ],
   "source": [
    "a=6\n",
    "b=2\n",
    "c=8\n",
    "d=1\n",
    "e=8\n",
    "f=4\n",
    "g=7\n",
    "h=7\n",
    "i=2\n",
    "j=7\n",
    "a+b+c+d+e+f+g+h+i+j\n"
   ]
  },
  {
   "cell_type": "markdown",
   "id": "c7c7a4f1-0b47-45e0-ab17-8c52231d7903",
   "metadata": {},
   "source": [
    "# addition +\n",
    "# substraction -\n",
    "# multipication *\n",
    "# division /\n",
    "# remainder %\n",
    "# power **\n",
    "# floor division //\n"
   ]
  },
  {
   "cell_type": "code",
   "execution_count": 8,
   "id": "ad7365da-8ef2-4b9f-812e-d4554a1b38d9",
   "metadata": {},
   "outputs": [
    {
     "data": {
      "text/plain": [
       "'My name is K.SAITEJA REDDY studying in MALLAREDDY UNIVERSITY.  I am from KARIMNAGAR.  I am a second year student  of AIML branch. '"
      ]
     },
     "execution_count": 8,
     "metadata": {},
     "output_type": "execute_result"
    }
   ],
   "source": [
    "a=\"My name is K.SAITEJA REDDY\"\n",
    "b=\" studying in MALLAREDDY UNIVERSITY. \"\n",
    "c= \" I am from KARIMNAGAR. \"\n",
    "d=\" I am a second year student \"\n",
    "e=\" of AIML branch. \"\n",
    "\n",
    "a+b+c+d+e"
   ]
  },
  {
   "cell_type": "code",
   "execution_count": 7,
   "id": "d7fd9149-0c57-4a50-b575-8882763a1901",
   "metadata": {},
   "outputs": [
    {
     "data": {
      "text/plain": [
       "int"
      ]
     },
     "execution_count": 7,
     "metadata": {},
     "output_type": "execute_result"
    }
   ],
   "source": [
    "type(c)"
   ]
  },
  {
   "cell_type": "code",
   "execution_count": 11,
   "id": "76b0026a-af99-444d-8677-280e46a9b40b",
   "metadata": {},
   "outputs": [
    {
     "data": {
      "text/plain": [
       "132"
      ]
     },
     "execution_count": 11,
     "metadata": {},
     "output_type": "execute_result"
    }
   ],
   "source": [
    "d=a*b\n",
    "d"
   ]
  },
  {
   "cell_type": "code",
   "execution_count": 13,
   "id": "960561f6-e3ca-4e50-8423-30189375388f",
   "metadata": {},
   "outputs": [
    {
     "data": {
      "text/plain": [
       "0.9166666666666666"
      ]
     },
     "execution_count": 13,
     "metadata": {},
     "output_type": "execute_result"
    }
   ],
   "source": [
    "e=a/b\n",
    "e"
   ]
  },
  {
   "cell_type": "code",
   "execution_count": 15,
   "id": "e569d801-ad35-4e5c-908b-4483b1e230e2",
   "metadata": {},
   "outputs": [
    {
     "data": {
      "text/plain": [
       "0"
      ]
     },
     "execution_count": 15,
     "metadata": {},
     "output_type": "execute_result"
    }
   ],
   "source": [
    "f=a//b\n",
    "f"
   ]
  },
  {
   "cell_type": "code",
   "execution_count": 17,
   "id": "335b9ccf-ef6c-4608-92b4-3379eff2e9b4",
   "metadata": {},
   "outputs": [
    {
     "data": {
      "text/plain": [
       "3138428376721"
      ]
     },
     "execution_count": 17,
     "metadata": {},
     "output_type": "execute_result"
    }
   ],
   "source": [
    "g=a**b\n",
    "g"
   ]
  },
  {
   "cell_type": "code",
   "execution_count": 2,
   "id": "58f414af-a4c8-4a57-97f4-d5ed24b4e557",
   "metadata": {},
   "outputs": [],
   "source": [
    "a=10\n",
    "b=5"
   ]
  },
  {
   "cell_type": "code",
   "execution_count": 4,
   "id": "475e6cc1-dabf-47b1-82fd-65d09a04380c",
   "metadata": {},
   "outputs": [
    {
     "data": {
      "text/plain": [
       "False"
      ]
     },
     "execution_count": 4,
     "metadata": {},
     "output_type": "execute_result"
    }
   ],
   "source": [
    "a<b"
   ]
  },
  {
   "cell_type": "code",
   "execution_count": 6,
   "id": "78bfe306-115a-438e-acbf-52de15f6b3d8",
   "metadata": {},
   "outputs": [
    {
     "data": {
      "text/plain": [
       "False"
      ]
     },
     "execution_count": 6,
     "metadata": {},
     "output_type": "execute_result"
    }
   ],
   "source": [
    "2==0"
   ]
  },
  {
   "cell_type": "code",
   "execution_count": 8,
   "id": "216efb47-f166-4373-873d-30b22f6da22d",
   "metadata": {},
   "outputs": [
    {
     "data": {
      "text/plain": [
       "True"
      ]
     },
     "execution_count": 8,
     "metadata": {},
     "output_type": "execute_result"
    }
   ],
   "source": [
    "2!=5"
   ]
  },
  {
   "cell_type": "code",
   "execution_count": 16,
   "id": "0542c752-04e2-4fab-9271-32e6caff6330",
   "metadata": {},
   "outputs": [
    {
     "data": {
      "text/plain": [
       "9.0"
      ]
     },
     "execution_count": 16,
     "metadata": {},
     "output_type": "execute_result"
    }
   ],
   "source": [
    "d=9.0\n",
    "d"
   ]
  },
  {
   "cell_type": "code",
   "execution_count": 18,
   "id": "f1c9d6c4-4f56-4692-a5c6-20baaffb8c31",
   "metadata": {},
   "outputs": [
    {
     "data": {
      "text/plain": [
       "False"
      ]
     },
     "execution_count": 18,
     "metadata": {},
     "output_type": "execute_result"
    }
   ],
   "source": [
    "d<=8.0"
   ]
  },
  {
   "cell_type": "code",
   "execution_count": 20,
   "id": "617472e4-f2b7-4f38-9d4b-2eeba76695ee",
   "metadata": {},
   "outputs": [
    {
     "data": {
      "text/plain": [
       "True"
      ]
     },
     "execution_count": 20,
     "metadata": {},
     "output_type": "execute_result"
    }
   ],
   "source": [
    "d<= 10 or d>=8"
   ]
  },
  {
   "cell_type": "code",
   "execution_count": 2,
   "id": "651bffa2-2f97-4f5e-a631-481c7366b7be",
   "metadata": {},
   "outputs": [
    {
     "ename": "SyntaxError",
     "evalue": "invalid syntax (2073263360.py, line 1)",
     "output_type": "error",
     "traceback": [
      "\u001b[1;36m  Cell \u001b[1;32mIn[2], line 1\u001b[1;36m\u001b[0m\n\u001b[1;33m    6 jan 2025\u001b[0m\n\u001b[1;37m      ^\u001b[0m\n\u001b[1;31mSyntaxError\u001b[0m\u001b[1;31m:\u001b[0m invalid syntax\n"
     ]
    }
   ],
   "source": [
    "6 jan 2025\n"
   ]
  },
  {
   "cell_type": "code",
   "execution_count": 4,
   "id": "8dec40f8-ca7a-46f2-8872-e13192291fd6",
   "metadata": {},
   "outputs": [
    {
     "data": {
      "text/plain": [
       "[1, 2, 3, 4, 5]"
      ]
     },
     "execution_count": 4,
     "metadata": {},
     "output_type": "execute_result"
    }
   ],
   "source": [
    "a=[ 1,2,3,4,5]\n",
    "a"
   ]
  },
  {
   "cell_type": "code",
   "execution_count": 6,
   "id": "800ef2dd-6381-4272-a435-94096517d8b4",
   "metadata": {},
   "outputs": [
    {
     "data": {
      "text/plain": [
       "list"
      ]
     },
     "execution_count": 6,
     "metadata": {},
     "output_type": "execute_result"
    }
   ],
   "source": [
    "type(a)"
   ]
  },
  {
   "cell_type": "code",
   "execution_count": 12,
   "id": "2fdeced7-fcdc-4d3c-a44e-94afd602a1a4",
   "metadata": {},
   "outputs": [
    {
     "data": {
      "text/plain": [
       "[17, 'SAITEJA', 19, True, False, 2, 1, 2025]"
      ]
     },
     "execution_count": 12,
     "metadata": {},
     "output_type": "execute_result"
    }
   ],
   "source": [
    "b=[17,'SAITEJA',19,True,False,2,1,2025]\n",
    "b"
   ]
  },
  {
   "cell_type": "code",
   "execution_count": 16,
   "id": "ab0cbbcc-359b-4365-98ae-cf8441047260",
   "metadata": {},
   "outputs": [
    {
     "data": {
      "text/plain": [
       "'SAITEJA'"
      ]
     },
     "execution_count": 16,
     "metadata": {},
     "output_type": "execute_result"
    }
   ],
   "source": [
    "b[1]"
   ]
  },
  {
   "cell_type": "code",
   "execution_count": 18,
   "id": "9ca80e46-5850-408a-83d3-89751e6a8e06",
   "metadata": {},
   "outputs": [
    {
     "data": {
      "text/plain": [
       "[True, False, 2, 1, 2025]"
      ]
     },
     "execution_count": 18,
     "metadata": {},
     "output_type": "execute_result"
    }
   ],
   "source": [
    "b[3:]"
   ]
  },
  {
   "cell_type": "code",
   "execution_count": 20,
   "id": "75cbe306-b17d-4d45-ade1-e41a942dd358",
   "metadata": {},
   "outputs": [
    {
     "data": {
      "text/plain": [
       "[17, 'SAITEJA', 19, True]"
      ]
     },
     "execution_count": 20,
     "metadata": {},
     "output_type": "execute_result"
    }
   ],
   "source": [
    "b[0:4]"
   ]
  },
  {
   "cell_type": "code",
   "execution_count": 22,
   "id": "5753cbf7-f1d0-423c-ac40-3f3c24437162",
   "metadata": {},
   "outputs": [
    {
     "data": {
      "text/plain": [
       "[17, 'SAITEJA', 19, True, False, 2, 1, 2025]"
      ]
     },
     "execution_count": 22,
     "metadata": {},
     "output_type": "execute_result"
    }
   ],
   "source": [
    "b"
   ]
  },
  {
   "cell_type": "code",
   "execution_count": 30,
   "id": "708a9a67-fcaa-4cf3-b59b-46266450ae8d",
   "metadata": {},
   "outputs": [
    {
     "data": {
      "text/plain": [
       "[17, 19, False, 1]"
      ]
     },
     "execution_count": 30,
     "metadata": {},
     "output_type": "execute_result"
    }
   ],
   "source": [
    "b[0:7:2]"
   ]
  },
  {
   "cell_type": "code",
   "execution_count": 32,
   "id": "fedb8eec-e15a-4e43-afc3-6b45b39d5b54",
   "metadata": {},
   "outputs": [
    {
     "data": {
      "text/plain": [
       "[]"
      ]
     },
     "execution_count": 32,
     "metadata": {},
     "output_type": "execute_result"
    }
   ],
   "source": [
    "b[ -4:-6 ]"
   ]
  },
  {
   "cell_type": "code",
   "execution_count": 34,
   "id": "7a23e206-de51-4f29-a558-e3f5d4b4a5b6",
   "metadata": {},
   "outputs": [
    {
     "data": {
      "text/plain": [
       "['SAITEJA', 19, True, False]"
      ]
     },
     "execution_count": 34,
     "metadata": {},
     "output_type": "execute_result"
    }
   ],
   "source": [
    "b[1:5]\n"
   ]
  },
  {
   "cell_type": "code",
   "execution_count": 36,
   "id": "ddd9c87e-0e0b-48d0-af34-72cb51117843",
   "metadata": {},
   "outputs": [
    {
     "data": {
      "text/plain": [
       "[1, 2, False, True]"
      ]
     },
     "execution_count": 36,
     "metadata": {},
     "output_type": "execute_result"
    }
   ],
   "source": [
    "b[6:2:-1]"
   ]
  },
  {
   "cell_type": "code",
   "execution_count": 54,
   "id": "0cac7446-b11b-4fa1-9ef1-82aae986a9ef",
   "metadata": {},
   "outputs": [],
   "source": [
    "#ListMethods\n"
   ]
  },
  {
   "cell_type": "code",
   "execution_count": 68,
   "id": "129157c6-1414-4f92-b23a-dfe5c689d92d",
   "metadata": {},
   "outputs": [
    {
     "data": {
      "text/plain": [
       "[17, 'SAITEJA', 19, True, False, 2, 1, 2025]"
      ]
     },
     "execution_count": 68,
     "metadata": {},
     "output_type": "execute_result"
    }
   ],
   "source": [
    "b=[17,'SAITEJA',19,True,False,2,1,2025]\n",
    "b"
   ]
  },
  {
   "cell_type": "code",
   "execution_count": 70,
   "id": "cf2a41d9-a68e-42cd-a521-cdf2192af3af",
   "metadata": {},
   "outputs": [
    {
     "data": {
      "text/plain": [
       "[17, 'SAITEJA', 19, True, False, 2, 1, 2025]"
      ]
     },
     "execution_count": 70,
     "metadata": {},
     "output_type": "execute_result"
    }
   ],
   "source": [
    "b"
   ]
  },
  {
   "cell_type": "code",
   "execution_count": 74,
   "id": "b28b79d7-a5f1-4f91-8253-ae79ccfdef77",
   "metadata": {},
   "outputs": [
    {
     "data": {
      "text/plain": [
       "[17, 2, 2, 'SAITEJA', 19, True, False, 2, 1, 2025]"
      ]
     },
     "execution_count": 74,
     "metadata": {},
     "output_type": "execute_result"
    }
   ],
   "source": [
    "b.insert()\n",
    "b"
   ]
  },
  {
   "cell_type": "code",
   "execution_count": 29,
   "id": "d6ec6110-df20-4840-b712-b9aa556c9760",
   "metadata": {},
   "outputs": [
    {
     "data": {
      "text/plain": [
       "{6, 12, 13, 21, 44, 60, 73}"
      ]
     },
     "execution_count": 29,
     "metadata": {},
     "output_type": "execute_result"
    }
   ],
   "source": [
    "s={21,12,44,60,73,13,6}\n",
    "s"
   ]
  },
  {
   "cell_type": "code",
   "execution_count": 31,
   "id": "38465a2d-0945-46ad-9590-5c70703a5644",
   "metadata": {},
   "outputs": [],
   "source": [
    "s.remove(6)"
   ]
  },
  {
   "cell_type": "code",
   "execution_count": 33,
   "id": "a759156e-3a23-45ed-972c-80b58dad37e7",
   "metadata": {},
   "outputs": [
    {
     "data": {
      "text/plain": [
       "{12, 13, 21, 44, 60, 73}"
      ]
     },
     "execution_count": 33,
     "metadata": {},
     "output_type": "execute_result"
    }
   ],
   "source": [
    "s"
   ]
  },
  {
   "cell_type": "code",
   "execution_count": 37,
   "id": "7afd7417-6659-40b3-b9c1-1f5bbf46ffac",
   "metadata": {},
   "outputs": [
    {
     "data": {
      "text/plain": [
       "{6, 90}"
      ]
     },
     "execution_count": 37,
     "metadata": {},
     "output_type": "execute_result"
    }
   ],
   "source": [
    "a={6,90}\n",
    "a"
   ]
  },
  {
   "cell_type": "code",
   "execution_count": 39,
   "id": "62958027-8f40-4a59-b639-4439f2a414f9",
   "metadata": {},
   "outputs": [
    {
     "data": {
      "text/plain": [
       "{6, 12, 13, 21, 44, 60, 73, 90}"
      ]
     },
     "execution_count": 39,
     "metadata": {},
     "output_type": "execute_result"
    }
   ],
   "source": [
    "s.union(a)\n"
   ]
  },
  {
   "cell_type": "code",
   "execution_count": 41,
   "id": "79975bd5-58cc-4150-8b68-4b86be56e2e2",
   "metadata": {},
   "outputs": [
    {
     "data": {
      "text/plain": [
       "{12, 13, 21, 44, 60, 73}"
      ]
     },
     "execution_count": 41,
     "metadata": {},
     "output_type": "execute_result"
    }
   ],
   "source": [
    "s.difference(a)"
   ]
  },
  {
   "cell_type": "code",
   "execution_count": 43,
   "id": "12a93428-7766-4c12-a7e4-f3b15969dd9f",
   "metadata": {},
   "outputs": [
    {
     "data": {
      "text/plain": [
       "set()"
      ]
     },
     "execution_count": 43,
     "metadata": {},
     "output_type": "execute_result"
    }
   ],
   "source": [
    "s.intersection(a)"
   ]
  },
  {
   "cell_type": "code",
   "execution_count": 47,
   "id": "ca09af65-e63b-4721-8caf-e1c39c39da6a",
   "metadata": {},
   "outputs": [],
   "source": [
    "s.add(90)"
   ]
  },
  {
   "cell_type": "code",
   "execution_count": 49,
   "id": "13b1f7e5-9a1d-4031-bbbe-7a4715e2bbe5",
   "metadata": {},
   "outputs": [
    {
     "data": {
      "text/plain": [
       "{12, 13, 21, 44, 60, 73, 90}"
      ]
     },
     "execution_count": 49,
     "metadata": {},
     "output_type": "execute_result"
    }
   ],
   "source": [
    "s\n"
   ]
  },
  {
   "cell_type": "code",
   "execution_count": 51,
   "id": "1deefcd8-7b95-44bd-bc60-83becde0322d",
   "metadata": {},
   "outputs": [
    {
     "data": {
      "text/plain": [
       "{90}"
      ]
     },
     "execution_count": 51,
     "metadata": {},
     "output_type": "execute_result"
    }
   ],
   "source": [
    "s.intersection(a)"
   ]
  },
  {
   "cell_type": "code",
   "execution_count": 6,
   "id": "8c5dab98-c877-434e-824b-a2d711d76374",
   "metadata": {},
   "outputs": [
    {
     "data": {
      "text/plain": [
       "[30, 20, 5, 8, 9]"
      ]
     },
     "execution_count": 6,
     "metadata": {},
     "output_type": "execute_result"
    }
   ],
   "source": [
    "h=[30, 20, 5, 8, 9]\n",
    "h"
   ]
  },
  {
   "cell_type": "code",
   "execution_count": 8,
   "id": "aee88ecb-3dea-471a-ab42-670fb360f759",
   "metadata": {},
   "outputs": [
    {
     "data": {
      "text/plain": [
       "[30, 20, 5, 8, 9]"
      ]
     },
     "execution_count": 8,
     "metadata": {},
     "output_type": "execute_result"
    }
   ],
   "source": [
    "import numpy as np\n",
    "h\n"
   ]
  },
  {
   "cell_type": "code",
   "execution_count": 12,
   "id": "30401bed-3c2b-4156-8ae3-7671983f77b5",
   "metadata": {},
   "outputs": [],
   "source": [
    "import array as np"
   ]
  },
  {
   "cell_type": "code",
   "execution_count": 14,
   "id": "f149a618-7dcb-4d08-b367-ca2945047adb",
   "metadata": {},
   "outputs": [
    {
     "data": {
      "text/plain": [
       "(6, 2, 3, 9, 7, 5, 8)"
      ]
     },
     "execution_count": 14,
     "metadata": {},
     "output_type": "execute_result"
    }
   ],
   "source": [
    "s=(6,2,3,9,7,5,8)\n",
    "s"
   ]
  },
  {
   "cell_type": "code",
   "execution_count": 30,
   "id": "f14c1f29-5260-4023-b3d3-ac940ae0c4b7",
   "metadata": {},
   "outputs": [
    {
     "data": {
      "text/plain": [
       "(6, 2, 3, 9, 7, 5, 8)"
      ]
     },
     "execution_count": 30,
     "metadata": {},
     "output_type": "execute_result"
    }
   ],
   "source": [
    "import numpy as np\n",
    "s=(6,2,3,9,7,5,8)\n",
    "s"
   ]
  },
  {
   "cell_type": "code",
   "execution_count": 32,
   "id": "95278add-2a64-4d39-998a-d7924244d71b",
   "metadata": {},
   "outputs": [
    {
     "data": {
      "text/plain": [
       "(36, 4, 9, 81, 49, 25, 64)"
      ]
     },
     "execution_count": 32,
     "metadata": {},
     "output_type": "execute_result"
    }
   ],
   "source": [
    "y=list(s)\n",
    "k=[]\n",
    "for i in y:\n",
    "    k.append(i**2)\n",
    "s=tuple(k)\n",
    "s"
   ]
  },
  {
   "cell_type": "code",
   "execution_count": 34,
   "id": "6f2e1bac-f25c-40f0-8a52-c5a019d1a09d",
   "metadata": {},
   "outputs": [
    {
     "data": {
      "text/plain": [
       "(1296, 16, 81, 6561, 2401, 625, 4096)"
      ]
     },
     "execution_count": 34,
     "metadata": {},
     "output_type": "execute_result"
    }
   ],
   "source": [
    "tuple(x**2 for x in s)"
   ]
  },
  {
   "cell_type": "code",
   "execution_count": 36,
   "id": "60f9e8d8-5303-4a9c-904f-60cb7c827ffa",
   "metadata": {},
   "outputs": [
    {
     "data": {
      "text/plain": [
       "(36, 4, 9, 81, 49, 25, 64)"
      ]
     },
     "execution_count": 36,
     "metadata": {},
     "output_type": "execute_result"
    }
   ],
   "source": [
    "s"
   ]
  },
  {
   "cell_type": "code",
   "execution_count": 44,
   "id": "33c78669-11ee-48b6-baa9-26a7736720ec",
   "metadata": {},
   "outputs": [
    {
     "name": "stdout",
     "output_type": "stream",
     "text": [
      "(36, 81, 49, 64)\n"
     ]
    }
   ],
   "source": [
    "\n",
    "s = (36, 4, 9, 81, 49, 25, 64)\n",
    "\n",
    "greater_than_30 = tuple(a for a in s if a > 30)\n",
    "\n",
    "print(greater_than_30)\n"
   ]
  },
  {
   "cell_type": "raw",
   "id": "7ee7f250-2423-4fe0-83a2-58a65855a626",
   "metadata": {},
   "source": []
  },
  {
   "cell_type": "code",
   "execution_count": 30,
   "id": "13021a1d-292f-4428-98c4-3733aa100bfd",
   "metadata": {},
   "outputs": [
    {
     "data": {
      "text/plain": [
       "array([20, 50, 30, 70, 80, 40, 36, 54, 23, 98])"
      ]
     },
     "execution_count": 30,
     "metadata": {},
     "output_type": "execute_result"
    }
   ],
   "source": [
    "import numpy as np\n",
    "arr=np.array([20,50,30,70,80,40,36,54,23,98])\n",
    "arr"
   ]
  },
  {
   "cell_type": "code",
   "execution_count": 32,
   "id": "0bcd2b33-c545-454e-a4dd-fa73a1676a78",
   "metadata": {},
   "outputs": [
    {
     "data": {
      "text/plain": [
       "array([ 25,  55,  35,  75,  85,  45,  41,  59,  28, 103])"
      ]
     },
     "execution_count": 32,
     "metadata": {},
     "output_type": "execute_result"
    }
   ],
   "source": [
    "arr+5"
   ]
  },
  {
   "cell_type": "code",
   "execution_count": 34,
   "id": "6c91e001-8e0f-4663-a169-31af7a7e74b2",
   "metadata": {},
   "outputs": [
    {
     "data": {
      "text/plain": [
       "array([False, False, False,  True,  True, False, False,  True, False,\n",
       "        True])"
      ]
     },
     "execution_count": 34,
     "metadata": {},
     "output_type": "execute_result"
    }
   ],
   "source": [
    "arr>50"
   ]
  },
  {
   "cell_type": "code",
   "execution_count": 36,
   "id": "7b43b480-8dae-409a-b998-3d545f0f8f72",
   "metadata": {},
   "outputs": [
    {
     "data": {
      "text/plain": [
       "array([70, 80, 54, 98])"
      ]
     },
     "execution_count": 36,
     "metadata": {},
     "output_type": "execute_result"
    }
   ],
   "source": [
    "arr[arr>50]"
   ]
  },
  {
   "cell_type": "code",
   "execution_count": 38,
   "id": "d8b6125e-2812-4f86-8fea-58a24f66b087",
   "metadata": {},
   "outputs": [
    {
     "data": {
      "text/plain": [
       "(array([3, 4, 7, 9], dtype=int64),)"
      ]
     },
     "execution_count": 38,
     "metadata": {},
     "output_type": "execute_result"
    }
   ],
   "source": [
    "np.where(arr>50)"
   ]
  },
  {
   "cell_type": "code",
   "execution_count": null,
   "id": "895c1430-957e-447d-b3cb-4dd5bf0bb336",
   "metadata": {},
   "outputs": [],
   "source": []
  }
 ],
 "metadata": {
  "kernelspec": {
   "display_name": "Python 3 (ipykernel)",
   "language": "python",
   "name": "python3"
  },
  "language_info": {
   "codemirror_mode": {
    "name": "ipython",
    "version": 3
   },
   "file_extension": ".py",
   "mimetype": "text/x-python",
   "name": "python",
   "nbconvert_exporter": "python",
   "pygments_lexer": "ipython3",
   "version": "3.12.7"
  }
 },
 "nbformat": 4,
 "nbformat_minor": 5
}
